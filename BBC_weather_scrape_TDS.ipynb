{
  "nbformat": 4,
  "nbformat_minor": 0,
  "metadata": {
    "kernelspec": {
      "display_name": "Python 3",
      "language": "python",
      "name": "python3"
    },
    "language_info": {
      "codemirror_mode": {
        "name": "ipython",
        "version": 3
      },
      "file_extension": ".py",
      "mimetype": "text/x-python",
      "name": "python",
      "nbconvert_exporter": "python",
      "pygments_lexer": "ipython3",
      "version": "3.7.4"
    },
    "colab": {
      "provenance": []
    }
  },
  "cells": [
    {
      "cell_type": "markdown",
      "source": [
        "### Necessary Imports\n",
        "- json - to convert the api in json format\n",
        "- requests - to get the webpage(HTML code of the webpage)\n",
        "- Beautiful soup - to parse the webpage(read the HTML code)\n",
        "- re - regular expression operators\n"
      ],
      "metadata": {
        "id": "6MeJTLy9N9-5"
      }
    },
    {
      "cell_type": "code",
      "source": [
        "import json\n",
        "\n",
        "from urllib.parse import urlencode\n",
        "\n",
        "import requests\n",
        "from bs4 import BeautifulSoup\n",
        "\n",
        "import pandas as pd\n",
        "import re\n",
        "\n",
        "from datetime import datetime"
      ],
      "metadata": {
        "id": "3WbVBIRVN-t0"
      },
      "execution_count": 55,
      "outputs": []
    },
    {
      "cell_type": "markdown",
      "source": [
        "Constructing an Location URL for Lucknow\n"
      ],
      "metadata": {
        "id": "mCGSpf1PPBtT"
      }
    },
    {
      "cell_type": "code",
      "metadata": {
        "id": "su3hVa9jBRBO",
        "colab": {
          "base_uri": "https://localhost:8080/",
          "height": 53
        },
        "outputId": "54e97a3a-72f5-4fcb-feee-1d67bea54e87"
      },
      "source": [
        "city = \"Lucknow\"\n",
        "location_url = 'https://locator-service.api.bbci.co.uk/locations?' + urlencode({\n",
        "   'api_key': 'AGbFAKx58hyjQScCXIYrxuEwJh2W2cmv',\n",
        "   's': city,\n",
        "   'stack': 'aws',\n",
        "   'locale': 'en',\n",
        "   'filter': 'international',\n",
        "   'place-types': 'settlement,airport,district',\n",
        "   'order': 'importance',\n",
        "   'a': 'true',\n",
        "   'format': 'json'\n",
        "})\n",
        "location_url"
      ],
      "execution_count": 56,
      "outputs": [
        {
          "output_type": "execute_result",
          "data": {
            "text/plain": [
              "'https://locator-service.api.bbci.co.uk/locations?api_key=AGbFAKx58hyjQScCXIYrxuEwJh2W2cmv&s=Lucknow&stack=aws&locale=en&filter=international&place-types=settlement%2Cairport%2Cdistrict&order=importance&a=true&format=json'"
            ],
            "application/vnd.google.colaboratory.intrinsic+json": {
              "type": "string"
            }
          },
          "metadata": {},
          "execution_count": 56
        }
      ]
    },
    {
      "cell_type": "markdown",
      "source": [
        "Converting an HTTP GET request into JSON format."
      ],
      "metadata": {
        "id": "SALf17J4QpNm"
      }
    },
    {
      "cell_type": "code",
      "metadata": {
        "id": "Ks0vHJ_nBXSz",
        "colab": {
          "base_uri": "https://localhost:8080/"
        },
        "outputId": "bc567401-3b36-499a-ceb8-0572b3e22024"
      },
      "source": [
        "result = requests.get(location_url).json()\n",
        "result"
      ],
      "execution_count": 57,
      "outputs": [
        {
          "output_type": "execute_result",
          "data": {
            "text/plain": [
              "{'response': {'results': {'results': [{'id': '1264733',\n",
              "     'name': 'Lucknow',\n",
              "     'container': 'India',\n",
              "     'containerId': 1269750,\n",
              "     'language': 'en',\n",
              "     'timezone': 'Asia/Kolkata',\n",
              "     'country': 'IN',\n",
              "     'latitude': 26.83928,\n",
              "     'longitude': 80.92313,\n",
              "     'placeType': 'settlement'},\n",
              "    {'id': '6269318',\n",
              "     'name': 'Lucknow',\n",
              "     'container': 'Angus',\n",
              "     'containerId': 2657306,\n",
              "     'language': 'en',\n",
              "     'timezone': 'Europe/London',\n",
              "     'country': 'GB',\n",
              "     'latitude': 56.49103,\n",
              "     'longitude': -2.7804,\n",
              "     'placeType': 'settlement',\n",
              "     'topicId': 'c7yjndd57l9t'}],\n",
              "   'totalResults': 2}}}"
            ]
          },
          "metadata": {},
          "execution_count": 57
        }
      ]
    },
    {
      "cell_type": "markdown",
      "source": [
        "Fetching weather forecast URL based on location data."
      ],
      "metadata": {
        "id": "EiisN1jVRobP"
      }
    },
    {
      "cell_type": "code",
      "metadata": {
        "id": "uPeJOmob9H0P"
      },
      "source": [
        "# url      = 'https://www.bbc.com/weather/1264733' # url to BBC weather, corresponding to a specific city (Lucknow, in this example)\n",
        "url      = 'https://www.bbc.com/weather/' + result['response']['results']['results'][0]['id']\n",
        "response = requests.get(url)\n"
      ],
      "execution_count": 58,
      "outputs": []
    },
    {
      "cell_type": "markdown",
      "metadata": {
        "id": "gAOhobDN9H0W"
      },
      "source": [
        "Next, we initiate an instance of  BeautifulSoup."
      ]
    },
    {
      "cell_type": "code",
      "metadata": {
        "id": "8Wn5Bc_49H1A"
      },
      "source": [
        "soup = BeautifulSoup(response.content,'html.parser')"
      ],
      "execution_count": 30,
      "outputs": []
    },
    {
      "cell_type": "markdown",
      "metadata": {
        "id": "KC1TxUzG9H2G"
      },
      "source": [
        "The information we want (daily high and low temp., and daily weather summary), are in specific blocks on the webpage.\n",
        "We need to find the block type, type of identifier, and the identifier name (all these can be figured out by right clicking\n",
        "on the webpage and selecting 'Inspect' on the Chrome browser; similar modus operandi for other browsers)"
      ]
    },
    {
      "cell_type": "code",
      "metadata": {
        "id": "wkm9oya79H2p",
        "colab": {
          "base_uri": "https://localhost:8080/"
        },
        "outputId": "f5c67fd9-c17d-4a9e-faa4-fa97640af933"
      },
      "source": [
        "daily_high_values = soup.find_all('span', attrs={'class': 'wr-day-temperature__high-value'}) # block-type: span; identifier type: class; and class name: wr-day-temperature__high-value\n",
        "daily_high_values"
      ],
      "execution_count": 31,
      "outputs": [
        {
          "output_type": "execute_result",
          "data": {
            "text/plain": [
              "[<span class=\"wr-day-temperature__high-value\"><span class=\"wr-value--temperature\"><span class=\"wr-value--temperature--c\">39°</span><span class=\"wr-hide\"> </span><span class=\"wr-value--temperature--f\">102°</span></span></span>,\n",
              " <span class=\"wr-day-temperature__high-value\"><span class=\"wr-value--temperature\"><span class=\"wr-value--temperature--c\">34°</span><span class=\"wr-hide\"> </span><span class=\"wr-value--temperature--f\">94°</span></span></span>,\n",
              " <span class=\"wr-day-temperature__high-value\"><span class=\"wr-value--temperature\"><span class=\"wr-value--temperature--c\">33°</span><span class=\"wr-hide\"> </span><span class=\"wr-value--temperature--f\">91°</span></span></span>,\n",
              " <span class=\"wr-day-temperature__high-value\"><span class=\"wr-value--temperature\"><span class=\"wr-value--temperature--c\">35°</span><span class=\"wr-hide\"> </span><span class=\"wr-value--temperature--f\">95°</span></span></span>,\n",
              " <span class=\"wr-day-temperature__high-value\"><span class=\"wr-value--temperature\"><span class=\"wr-value--temperature--c\">35°</span><span class=\"wr-hide\"> </span><span class=\"wr-value--temperature--f\">95°</span></span></span>,\n",
              " <span class=\"wr-day-temperature__high-value\"><span class=\"wr-value--temperature\"><span class=\"wr-value--temperature--c\">34°</span><span class=\"wr-hide\"> </span><span class=\"wr-value--temperature--f\">93°</span></span></span>,\n",
              " <span class=\"wr-day-temperature__high-value\"><span class=\"wr-value--temperature\"><span class=\"wr-value--temperature--c\">32°</span><span class=\"wr-hide\"> </span><span class=\"wr-value--temperature--f\">90°</span></span></span>,\n",
              " <span class=\"wr-day-temperature__high-value\"><span class=\"wr-value--temperature\"><span class=\"wr-value--temperature--c\">32°</span><span class=\"wr-hide\"> </span><span class=\"wr-value--temperature--f\">90°</span></span></span>,\n",
              " <span class=\"wr-day-temperature__high-value\"><span class=\"wr-value--temperature\"><span class=\"wr-value--temperature--c\">32°</span><span class=\"wr-hide\"> </span><span class=\"wr-value--temperature--f\">89°</span></span></span>,\n",
              " <span class=\"wr-day-temperature__high-value\"><span class=\"wr-value--temperature\"><span class=\"wr-value--temperature--c\">32°</span><span class=\"wr-hide\"> </span><span class=\"wr-value--temperature--f\">90°</span></span></span>,\n",
              " <span class=\"wr-day-temperature__high-value\"><span class=\"wr-value--temperature\"><span class=\"wr-value--temperature--c\">32°</span><span class=\"wr-hide\"> </span><span class=\"wr-value--temperature--f\">90°</span></span></span>,\n",
              " <span class=\"wr-day-temperature__high-value\"><span class=\"wr-value--temperature\"><span class=\"wr-value--temperature--c\">32°</span><span class=\"wr-hide\"> </span><span class=\"wr-value--temperature--f\">90°</span></span></span>,\n",
              " <span class=\"wr-day-temperature__high-value\"><span class=\"wr-value--temperature\"><span class=\"wr-value--temperature--c\">33°</span><span class=\"wr-hide\"> </span><span class=\"wr-value--temperature--f\">91°</span></span></span>,\n",
              " <span class=\"wr-day-temperature__high-value\"><span class=\"wr-value--temperature\"><span class=\"wr-value--temperature--c\">32°</span><span class=\"wr-hide\"> </span><span class=\"wr-value--temperature--f\">89°</span></span></span>]"
            ]
          },
          "metadata": {},
          "execution_count": 31
        }
      ]
    },
    {
      "cell_type": "code",
      "metadata": {
        "id": "FbTO53Oz9H3z",
        "colab": {
          "base_uri": "https://localhost:8080/"
        },
        "outputId": "85d6cd63-9b7b-4550-c349-80f1032864d0"
      },
      "source": [
        "daily_low_values  = soup.find_all('span', attrs={'class': 'wr-day-temperature__low-value'})\n",
        "daily_low_values"
      ],
      "execution_count": 32,
      "outputs": [
        {
          "output_type": "execute_result",
          "data": {
            "text/plain": [
              "[<span class=\"wr-day-temperature__low-value\"><span class=\"wr-value--temperature\"><span class=\"wr-value--temperature--c\">28°</span><span class=\"wr-hide\"> </span><span class=\"wr-value--temperature--f\">82°</span></span></span>,\n",
              " <span class=\"wr-day-temperature__low-value\"><span class=\"wr-value--temperature\"><span class=\"wr-value--temperature--c\">26°</span><span class=\"wr-hide\"> </span><span class=\"wr-value--temperature--f\">79°</span></span></span>,\n",
              " <span class=\"wr-day-temperature__low-value\"><span class=\"wr-value--temperature\"><span class=\"wr-value--temperature--c\">25°</span><span class=\"wr-hide\"> </span><span class=\"wr-value--temperature--f\">77°</span></span></span>,\n",
              " <span class=\"wr-day-temperature__low-value\"><span class=\"wr-value--temperature\"><span class=\"wr-value--temperature--c\">26°</span><span class=\"wr-hide\"> </span><span class=\"wr-value--temperature--f\">78°</span></span></span>,\n",
              " <span class=\"wr-day-temperature__low-value\"><span class=\"wr-value--temperature\"><span class=\"wr-value--temperature--c\">26°</span><span class=\"wr-hide\"> </span><span class=\"wr-value--temperature--f\">78°</span></span></span>,\n",
              " <span class=\"wr-day-temperature__low-value\"><span class=\"wr-value--temperature\"><span class=\"wr-value--temperature--c\">25°</span><span class=\"wr-hide\"> </span><span class=\"wr-value--temperature--f\">78°</span></span></span>,\n",
              " <span class=\"wr-day-temperature__low-value\"><span class=\"wr-value--temperature\"><span class=\"wr-value--temperature--c\">25°</span><span class=\"wr-hide\"> </span><span class=\"wr-value--temperature--f\">76°</span></span></span>,\n",
              " <span class=\"wr-day-temperature__low-value\"><span class=\"wr-value--temperature\"><span class=\"wr-value--temperature--c\">25°</span><span class=\"wr-hide\"> </span><span class=\"wr-value--temperature--f\">76°</span></span></span>,\n",
              " <span class=\"wr-day-temperature__low-value\"><span class=\"wr-value--temperature\"><span class=\"wr-value--temperature--c\">24°</span><span class=\"wr-hide\"> </span><span class=\"wr-value--temperature--f\">75°</span></span></span>,\n",
              " <span class=\"wr-day-temperature__low-value\"><span class=\"wr-value--temperature\"><span class=\"wr-value--temperature--c\">23°</span><span class=\"wr-hide\"> </span><span class=\"wr-value--temperature--f\">74°</span></span></span>,\n",
              " <span class=\"wr-day-temperature__low-value\"><span class=\"wr-value--temperature\"><span class=\"wr-value--temperature--c\">23°</span><span class=\"wr-hide\"> </span><span class=\"wr-value--temperature--f\">74°</span></span></span>,\n",
              " <span class=\"wr-day-temperature__low-value\"><span class=\"wr-value--temperature\"><span class=\"wr-value--temperature--c\">23°</span><span class=\"wr-hide\"> </span><span class=\"wr-value--temperature--f\">74°</span></span></span>,\n",
              " <span class=\"wr-day-temperature__low-value\"><span class=\"wr-value--temperature\"><span class=\"wr-value--temperature--c\">24°</span><span class=\"wr-hide\"> </span><span class=\"wr-value--temperature--f\">74°</span></span></span>,\n",
              " <span class=\"wr-day-temperature__low-value\"><span class=\"wr-value--temperature\"><span class=\"wr-value--temperature--c\">24°</span><span class=\"wr-hide\"> </span><span class=\"wr-value--temperature--f\">74°</span></span></span>]"
            ]
          },
          "metadata": {},
          "execution_count": 32
        }
      ]
    },
    {
      "cell_type": "markdown",
      "metadata": {
        "id": "vICLyU1gCCOI"
      },
      "source": [
        "Obtaining the summary of the weather for each day."
      ]
    },
    {
      "cell_type": "code",
      "metadata": {
        "id": "UfxUo44x9H39",
        "colab": {
          "base_uri": "https://localhost:8080/"
        },
        "outputId": "80af806a-b2e3-41f7-99a7-5e12bb52cff2"
      },
      "source": [
        "daily_summary = soup.find('div', attrs={'class': 'wr-day-summary'})\n",
        "daily_summary"
      ],
      "execution_count": 68,
      "outputs": [
        {
          "output_type": "execute_result",
          "data": {
            "text/plain": [
              "<div class=\"wr-day-summary\"><div class=\"gel-wrap\"><span class=\"\">Sunny and a gentle breeze</span><span class=\"wr-hide\">Thundery showers and a gentle breeze</span><span class=\"wr-hide\">Thundery showers and a gentle breeze</span><span class=\"wr-hide\">Light rain and a gentle breeze</span><span class=\"wr-hide\">Drizzle and light winds</span><span class=\"wr-hide\">Light rain showers and light winds</span><span class=\"wr-hide\">Light rain showers and light winds</span><span class=\"wr-hide\">Thundery showers and light winds</span><span class=\"wr-hide\">Thundery showers and a gentle breeze</span><span class=\"wr-hide\">Thundery showers and a gentle breeze</span><span class=\"wr-hide\">Light rain showers and a gentle breeze</span><span class=\"wr-hide\">Thundery showers and light winds</span><span class=\"wr-hide\">Thundery showers and a gentle breeze</span><span class=\"wr-hide\">Light rain showers and a gentle breeze</span></div></div>"
            ]
          },
          "metadata": {},
          "execution_count": 68
        }
      ]
    },
    {
      "cell_type": "code",
      "metadata": {
        "id": "JwcyXbeXBteI",
        "colab": {
          "base_uri": "https://localhost:8080/",
          "height": 70
        },
        "outputId": "6539e011-4eaf-4318-99b8-647d9a31bc85"
      },
      "source": [
        "daily_summary.text"
      ],
      "execution_count": 69,
      "outputs": [
        {
          "output_type": "execute_result",
          "data": {
            "text/plain": [
              "'Sunny and a gentle breezeThundery showers and a gentle breezeThundery showers and a gentle breezeLight rain and a gentle breezeDrizzle and light windsLight rain showers and light windsLight rain showers and light windsThundery showers and light windsThundery showers and a gentle breezeThundery showers and a gentle breezeLight rain showers and a gentle breezeThundery showers and light windsThundery showers and a gentle breezeLight rain showers and a gentle breeze'"
            ],
            "application/vnd.google.colaboratory.intrinsic+json": {
              "type": "string"
            }
          },
          "metadata": {},
          "execution_count": 69
        }
      ]
    },
    {
      "cell_type": "markdown",
      "source": [
        "Extracting the useful information from daily_high_values and daily_low_values."
      ],
      "metadata": {
        "id": "abCo2xQQaGJr"
      }
    },
    {
      "cell_type": "code",
      "metadata": {
        "id": "wYXfNscP9H4p",
        "colab": {
          "base_uri": "https://localhost:8080/",
          "height": 36
        },
        "outputId": "1154f3e7-a3f3-4a85-f8f2-83ad078838eb"
      },
      "source": [
        "daily_high_values[0].text.strip()"
      ],
      "execution_count": 35,
      "outputs": [
        {
          "output_type": "execute_result",
          "data": {
            "text/plain": [
              "'39° 102°'"
            ],
            "application/vnd.google.colaboratory.intrinsic+json": {
              "type": "string"
            }
          },
          "metadata": {},
          "execution_count": 35
        }
      ]
    },
    {
      "cell_type": "code",
      "metadata": {
        "id": "Jy0EG4o09H4v",
        "colab": {
          "base_uri": "https://localhost:8080/",
          "height": 36
        },
        "outputId": "50c005e8-2f0f-4b73-b749-463a1d48a21f"
      },
      "source": [
        "daily_high_values[5].text.strip()"
      ],
      "execution_count": 36,
      "outputs": [
        {
          "output_type": "execute_result",
          "data": {
            "text/plain": [
              "'34° 93°'"
            ],
            "application/vnd.google.colaboratory.intrinsic+json": {
              "type": "string"
            }
          },
          "metadata": {},
          "execution_count": 36
        }
      ]
    },
    {
      "cell_type": "code",
      "metadata": {
        "id": "EpYaNjJn9H4v",
        "colab": {
          "base_uri": "https://localhost:8080/",
          "height": 36
        },
        "outputId": "b90c4346-77bf-4f7b-fc2b-4640e88f60ce"
      },
      "source": [
        "daily_high_values[0].text.strip().split()[0]"
      ],
      "execution_count": 37,
      "outputs": [
        {
          "output_type": "execute_result",
          "data": {
            "text/plain": [
              "'39°'"
            ],
            "application/vnd.google.colaboratory.intrinsic+json": {
              "type": "string"
            }
          },
          "metadata": {},
          "execution_count": 37
        }
      ]
    },
    {
      "cell_type": "code",
      "metadata": {
        "id": "uvBbV5AT9H40",
        "colab": {
          "base_uri": "https://localhost:8080/"
        },
        "outputId": "158061e1-3563-4d09-bcb3-2ebd1ef7e7e4"
      },
      "source": [
        "daily_high_values_list = [daily_high_values[i].text.strip().split()[0] for i in range(len(daily_high_values))]\n",
        "daily_high_values_list"
      ],
      "execution_count": 77,
      "outputs": [
        {
          "output_type": "execute_result",
          "data": {
            "text/plain": [
              "['39°',\n",
              " '34°',\n",
              " '33°',\n",
              " '35°',\n",
              " '35°',\n",
              " '34°',\n",
              " '32°',\n",
              " '32°',\n",
              " '32°',\n",
              " '32°',\n",
              " '32°',\n",
              " '32°',\n",
              " '33°',\n",
              " '32°']"
            ]
          },
          "metadata": {},
          "execution_count": 77
        }
      ]
    },
    {
      "cell_type": "code",
      "metadata": {
        "id": "cOafAXHZ9H45",
        "colab": {
          "base_uri": "https://localhost:8080/"
        },
        "outputId": "0caaa8bc-830c-4c94-e508-a76b8ed10003"
      },
      "source": [
        "daily_low_values_list = [daily_low_values[i].text.strip().split()[0] for i in range(len(daily_low_values))]\n",
        "daily_low_values_list"
      ],
      "execution_count": 39,
      "outputs": [
        {
          "output_type": "execute_result",
          "data": {
            "text/plain": [
              "['28°',\n",
              " '26°',\n",
              " '25°',\n",
              " '26°',\n",
              " '26°',\n",
              " '25°',\n",
              " '25°',\n",
              " '25°',\n",
              " '24°',\n",
              " '23°',\n",
              " '23°',\n",
              " '23°',\n",
              " '24°',\n",
              " '24°']"
            ]
          },
          "metadata": {},
          "execution_count": 39
        }
      ]
    },
    {
      "cell_type": "code",
      "metadata": {
        "id": "r_2FDTPX9H5Z",
        "colab": {
          "base_uri": "https://localhost:8080/",
          "height": 70
        },
        "outputId": "93c70f06-a020-48f9-b6d3-2fb53f1d49c3"
      },
      "source": [
        "daily_summary.text"
      ],
      "execution_count": 40,
      "outputs": [
        {
          "output_type": "execute_result",
          "data": {
            "text/plain": [
              "'Sunny and a gentle breezeThundery showers and a gentle breezeThundery showers and a gentle breezeLight rain and a gentle breezeDrizzle and light windsLight rain showers and light windsLight rain showers and light windsThundery showers and light windsThundery showers and a gentle breezeThundery showers and a gentle breezeLight rain showers and a gentle breezeThundery showers and light windsThundery showers and a gentle breezeLight rain showers and a gentle breeze'"
            ],
            "application/vnd.google.colaboratory.intrinsic+json": {
              "type": "string"
            }
          },
          "metadata": {},
          "execution_count": 40
        }
      ]
    },
    {
      "cell_type": "markdown",
      "source": [
        "Separating summary for each day."
      ],
      "metadata": {
        "id": "vTAz7DQmcBay"
      }
    },
    {
      "cell_type": "code",
      "metadata": {
        "id": "NAFzsNuB9H5j",
        "colab": {
          "base_uri": "https://localhost:8080/"
        },
        "outputId": "21815ca7-82b4-44b5-bd30-e31b46504177"
      },
      "source": [
        "daily_summary_list = re.findall('[a-zA-Z][^A-Z]*', daily_summary.text) #split the string on uppercase\n",
        "daily_summary_list"
      ],
      "execution_count": 78,
      "outputs": [
        {
          "output_type": "execute_result",
          "data": {
            "text/plain": [
              "['Sunny and a gentle breeze',\n",
              " 'Thundery showers and a gentle breeze',\n",
              " 'Thundery showers and a gentle breeze',\n",
              " 'Light rain and a gentle breeze',\n",
              " 'Drizzle and light winds',\n",
              " 'Light rain showers and light winds',\n",
              " 'Light rain showers and light winds',\n",
              " 'Thundery showers and light winds',\n",
              " 'Thundery showers and a gentle breeze',\n",
              " 'Thundery showers and a gentle breeze',\n",
              " 'Light rain showers and a gentle breeze',\n",
              " 'Thundery showers and light winds',\n",
              " 'Thundery showers and a gentle breeze',\n",
              " 'Light rain showers and a gentle breeze']"
            ]
          },
          "metadata": {},
          "execution_count": 78
        }
      ]
    },
    {
      "cell_type": "code",
      "metadata": {
        "id": "WAcgJCLp9H5p",
        "colab": {
          "base_uri": "https://localhost:8080/"
        },
        "outputId": "bdca5130-ea74-4e51-b9f9-ec4f7a25ac0d"
      },
      "source": [
        "datelist = pd.date_range(datetime.today(), periods=len(daily_high_values)).tolist()\n",
        "datelist"
      ],
      "execution_count": 79,
      "outputs": [
        {
          "output_type": "execute_result",
          "data": {
            "text/plain": [
              "[Timestamp('2023-06-19 11:38:44.395370', freq='D'),\n",
              " Timestamp('2023-06-20 11:38:44.395370', freq='D'),\n",
              " Timestamp('2023-06-21 11:38:44.395370', freq='D'),\n",
              " Timestamp('2023-06-22 11:38:44.395370', freq='D'),\n",
              " Timestamp('2023-06-23 11:38:44.395370', freq='D'),\n",
              " Timestamp('2023-06-24 11:38:44.395370', freq='D'),\n",
              " Timestamp('2023-06-25 11:38:44.395370', freq='D'),\n",
              " Timestamp('2023-06-26 11:38:44.395370', freq='D'),\n",
              " Timestamp('2023-06-27 11:38:44.395370', freq='D'),\n",
              " Timestamp('2023-06-28 11:38:44.395370', freq='D'),\n",
              " Timestamp('2023-06-29 11:38:44.395370', freq='D'),\n",
              " Timestamp('2023-06-30 11:38:44.395370', freq='D'),\n",
              " Timestamp('2023-07-01 11:38:44.395370', freq='D'),\n",
              " Timestamp('2023-07-02 11:38:44.395370', freq='D')]"
            ]
          },
          "metadata": {},
          "execution_count": 79
        }
      ]
    },
    {
      "cell_type": "code",
      "metadata": {
        "id": "txU3R5wX9H5v",
        "colab": {
          "base_uri": "https://localhost:8080/"
        },
        "outputId": "2e584c49-c467-4389-be75-b406e98b3c70"
      },
      "source": [
        "datelist = [datelist[i].date().strftime('%y-%m-%d') for i in range(len(datelist))]\n",
        "datelist"
      ],
      "execution_count": 80,
      "outputs": [
        {
          "output_type": "execute_result",
          "data": {
            "text/plain": [
              "['23-06-19',\n",
              " '23-06-20',\n",
              " '23-06-21',\n",
              " '23-06-22',\n",
              " '23-06-23',\n",
              " '23-06-24',\n",
              " '23-06-25',\n",
              " '23-06-26',\n",
              " '23-06-27',\n",
              " '23-06-28',\n",
              " '23-06-29',\n",
              " '23-06-30',\n",
              " '23-07-01',\n",
              " '23-07-02']"
            ]
          },
          "metadata": {},
          "execution_count": 80
        }
      ]
    },
    {
      "cell_type": "code",
      "metadata": {
        "id": "VSwi6b5v9H5v"
      },
      "source": [
        "zipped = zip(datelist, daily_high_values_list, daily_low_values_list, daily_summary_list)"
      ],
      "execution_count": 81,
      "outputs": []
    },
    {
      "cell_type": "code",
      "metadata": {
        "id": "K5_Devru9H5v"
      },
      "source": [
        "df = pd.DataFrame(list(zipped), columns=['Date', 'High','Low', 'Summary'])"
      ],
      "execution_count": 82,
      "outputs": []
    },
    {
      "cell_type": "code",
      "metadata": {
        "id": "VwaAs_HO9H5x",
        "colab": {
          "base_uri": "https://localhost:8080/",
          "height": 488
        },
        "outputId": "1465d7d0-8fa0-4b8c-d38c-0133d78fa172"
      },
      "source": [
        "display(df)"
      ],
      "execution_count": 83,
      "outputs": [
        {
          "output_type": "display_data",
          "data": {
            "text/plain": [
              "        Date High  Low                                 Summary\n",
              "0   23-06-19  39°  28°               Sunny and a gentle breeze\n",
              "1   23-06-20  34°  26°    Thundery showers and a gentle breeze\n",
              "2   23-06-21  33°  25°    Thundery showers and a gentle breeze\n",
              "3   23-06-22  35°  26°          Light rain and a gentle breeze\n",
              "4   23-06-23  35°  26°                 Drizzle and light winds\n",
              "5   23-06-24  34°  25°      Light rain showers and light winds\n",
              "6   23-06-25  32°  25°      Light rain showers and light winds\n",
              "7   23-06-26  32°  25°        Thundery showers and light winds\n",
              "8   23-06-27  32°  24°    Thundery showers and a gentle breeze\n",
              "9   23-06-28  32°  23°    Thundery showers and a gentle breeze\n",
              "10  23-06-29  32°  23°  Light rain showers and a gentle breeze\n",
              "11  23-06-30  32°  23°        Thundery showers and light winds\n",
              "12  23-07-01  33°  24°    Thundery showers and a gentle breeze\n",
              "13  23-07-02  32°  24°  Light rain showers and a gentle breeze"
            ],
            "text/html": [
              "\n",
              "  <div id=\"df-8eec1355-59a1-42e3-bd95-593ab1f60482\">\n",
              "    <div class=\"colab-df-container\">\n",
              "      <div>\n",
              "<style scoped>\n",
              "    .dataframe tbody tr th:only-of-type {\n",
              "        vertical-align: middle;\n",
              "    }\n",
              "\n",
              "    .dataframe tbody tr th {\n",
              "        vertical-align: top;\n",
              "    }\n",
              "\n",
              "    .dataframe thead th {\n",
              "        text-align: right;\n",
              "    }\n",
              "</style>\n",
              "<table border=\"1\" class=\"dataframe\">\n",
              "  <thead>\n",
              "    <tr style=\"text-align: right;\">\n",
              "      <th></th>\n",
              "      <th>Date</th>\n",
              "      <th>High</th>\n",
              "      <th>Low</th>\n",
              "      <th>Summary</th>\n",
              "    </tr>\n",
              "  </thead>\n",
              "  <tbody>\n",
              "    <tr>\n",
              "      <th>0</th>\n",
              "      <td>23-06-19</td>\n",
              "      <td>39°</td>\n",
              "      <td>28°</td>\n",
              "      <td>Sunny and a gentle breeze</td>\n",
              "    </tr>\n",
              "    <tr>\n",
              "      <th>1</th>\n",
              "      <td>23-06-20</td>\n",
              "      <td>34°</td>\n",
              "      <td>26°</td>\n",
              "      <td>Thundery showers and a gentle breeze</td>\n",
              "    </tr>\n",
              "    <tr>\n",
              "      <th>2</th>\n",
              "      <td>23-06-21</td>\n",
              "      <td>33°</td>\n",
              "      <td>25°</td>\n",
              "      <td>Thundery showers and a gentle breeze</td>\n",
              "    </tr>\n",
              "    <tr>\n",
              "      <th>3</th>\n",
              "      <td>23-06-22</td>\n",
              "      <td>35°</td>\n",
              "      <td>26°</td>\n",
              "      <td>Light rain and a gentle breeze</td>\n",
              "    </tr>\n",
              "    <tr>\n",
              "      <th>4</th>\n",
              "      <td>23-06-23</td>\n",
              "      <td>35°</td>\n",
              "      <td>26°</td>\n",
              "      <td>Drizzle and light winds</td>\n",
              "    </tr>\n",
              "    <tr>\n",
              "      <th>5</th>\n",
              "      <td>23-06-24</td>\n",
              "      <td>34°</td>\n",
              "      <td>25°</td>\n",
              "      <td>Light rain showers and light winds</td>\n",
              "    </tr>\n",
              "    <tr>\n",
              "      <th>6</th>\n",
              "      <td>23-06-25</td>\n",
              "      <td>32°</td>\n",
              "      <td>25°</td>\n",
              "      <td>Light rain showers and light winds</td>\n",
              "    </tr>\n",
              "    <tr>\n",
              "      <th>7</th>\n",
              "      <td>23-06-26</td>\n",
              "      <td>32°</td>\n",
              "      <td>25°</td>\n",
              "      <td>Thundery showers and light winds</td>\n",
              "    </tr>\n",
              "    <tr>\n",
              "      <th>8</th>\n",
              "      <td>23-06-27</td>\n",
              "      <td>32°</td>\n",
              "      <td>24°</td>\n",
              "      <td>Thundery showers and a gentle breeze</td>\n",
              "    </tr>\n",
              "    <tr>\n",
              "      <th>9</th>\n",
              "      <td>23-06-28</td>\n",
              "      <td>32°</td>\n",
              "      <td>23°</td>\n",
              "      <td>Thundery showers and a gentle breeze</td>\n",
              "    </tr>\n",
              "    <tr>\n",
              "      <th>10</th>\n",
              "      <td>23-06-29</td>\n",
              "      <td>32°</td>\n",
              "      <td>23°</td>\n",
              "      <td>Light rain showers and a gentle breeze</td>\n",
              "    </tr>\n",
              "    <tr>\n",
              "      <th>11</th>\n",
              "      <td>23-06-30</td>\n",
              "      <td>32°</td>\n",
              "      <td>23°</td>\n",
              "      <td>Thundery showers and light winds</td>\n",
              "    </tr>\n",
              "    <tr>\n",
              "      <th>12</th>\n",
              "      <td>23-07-01</td>\n",
              "      <td>33°</td>\n",
              "      <td>24°</td>\n",
              "      <td>Thundery showers and a gentle breeze</td>\n",
              "    </tr>\n",
              "    <tr>\n",
              "      <th>13</th>\n",
              "      <td>23-07-02</td>\n",
              "      <td>32°</td>\n",
              "      <td>24°</td>\n",
              "      <td>Light rain showers and a gentle breeze</td>\n",
              "    </tr>\n",
              "  </tbody>\n",
              "</table>\n",
              "</div>\n",
              "      <button class=\"colab-df-convert\" onclick=\"convertToInteractive('df-8eec1355-59a1-42e3-bd95-593ab1f60482')\"\n",
              "              title=\"Convert this dataframe to an interactive table.\"\n",
              "              style=\"display:none;\">\n",
              "        \n",
              "  <svg xmlns=\"http://www.w3.org/2000/svg\" height=\"24px\"viewBox=\"0 0 24 24\"\n",
              "       width=\"24px\">\n",
              "    <path d=\"M0 0h24v24H0V0z\" fill=\"none\"/>\n",
              "    <path d=\"M18.56 5.44l.94 2.06.94-2.06 2.06-.94-2.06-.94-.94-2.06-.94 2.06-2.06.94zm-11 1L8.5 8.5l.94-2.06 2.06-.94-2.06-.94L8.5 2.5l-.94 2.06-2.06.94zm10 10l.94 2.06.94-2.06 2.06-.94-2.06-.94-.94-2.06-.94 2.06-2.06.94z\"/><path d=\"M17.41 7.96l-1.37-1.37c-.4-.4-.92-.59-1.43-.59-.52 0-1.04.2-1.43.59L10.3 9.45l-7.72 7.72c-.78.78-.78 2.05 0 2.83L4 21.41c.39.39.9.59 1.41.59.51 0 1.02-.2 1.41-.59l7.78-7.78 2.81-2.81c.8-.78.8-2.07 0-2.86zM5.41 20L4 18.59l7.72-7.72 1.47 1.35L5.41 20z\"/>\n",
              "  </svg>\n",
              "      </button>\n",
              "      \n",
              "  <style>\n",
              "    .colab-df-container {\n",
              "      display:flex;\n",
              "      flex-wrap:wrap;\n",
              "      gap: 12px;\n",
              "    }\n",
              "\n",
              "    .colab-df-convert {\n",
              "      background-color: #E8F0FE;\n",
              "      border: none;\n",
              "      border-radius: 50%;\n",
              "      cursor: pointer;\n",
              "      display: none;\n",
              "      fill: #1967D2;\n",
              "      height: 32px;\n",
              "      padding: 0 0 0 0;\n",
              "      width: 32px;\n",
              "    }\n",
              "\n",
              "    .colab-df-convert:hover {\n",
              "      background-color: #E2EBFA;\n",
              "      box-shadow: 0px 1px 2px rgba(60, 64, 67, 0.3), 0px 1px 3px 1px rgba(60, 64, 67, 0.15);\n",
              "      fill: #174EA6;\n",
              "    }\n",
              "\n",
              "    [theme=dark] .colab-df-convert {\n",
              "      background-color: #3B4455;\n",
              "      fill: #D2E3FC;\n",
              "    }\n",
              "\n",
              "    [theme=dark] .colab-df-convert:hover {\n",
              "      background-color: #434B5C;\n",
              "      box-shadow: 0px 1px 3px 1px rgba(0, 0, 0, 0.15);\n",
              "      filter: drop-shadow(0px 1px 2px rgba(0, 0, 0, 0.3));\n",
              "      fill: #FFFFFF;\n",
              "    }\n",
              "  </style>\n",
              "\n",
              "      <script>\n",
              "        const buttonEl =\n",
              "          document.querySelector('#df-8eec1355-59a1-42e3-bd95-593ab1f60482 button.colab-df-convert');\n",
              "        buttonEl.style.display =\n",
              "          google.colab.kernel.accessAllowed ? 'block' : 'none';\n",
              "\n",
              "        async function convertToInteractive(key) {\n",
              "          const element = document.querySelector('#df-8eec1355-59a1-42e3-bd95-593ab1f60482');\n",
              "          const dataTable =\n",
              "            await google.colab.kernel.invokeFunction('convertToInteractive',\n",
              "                                                     [key], {});\n",
              "          if (!dataTable) return;\n",
              "\n",
              "          const docLinkHtml = 'Like what you see? Visit the ' +\n",
              "            '<a target=\"_blank\" href=https://colab.research.google.com/notebooks/data_table.ipynb>data table notebook</a>'\n",
              "            + ' to learn more about interactive tables.';\n",
              "          element.innerHTML = '';\n",
              "          dataTable['output_type'] = 'display_data';\n",
              "          await google.colab.output.renderOutput(dataTable, element);\n",
              "          const docLink = document.createElement('div');\n",
              "          docLink.innerHTML = docLinkHtml;\n",
              "          element.appendChild(docLink);\n",
              "        }\n",
              "      </script>\n",
              "    </div>\n",
              "  </div>\n",
              "  "
            ]
          },
          "metadata": {}
        }
      ]
    },
    {
      "cell_type": "code",
      "metadata": {
        "id": "eNrnI0LA9H51"
      },
      "source": [
        "# remove the 'degree' character\n",
        "df.High = df.High.replace('\\°','',regex=True).astype(float)\n",
        "df.Low  = df.Low.replace('\\°','',regex=True).astype(float)"
      ],
      "execution_count": 84,
      "outputs": []
    },
    {
      "cell_type": "code",
      "metadata": {
        "id": "OYhZw1VV9H54",
        "colab": {
          "base_uri": "https://localhost:8080/",
          "height": 488
        },
        "outputId": "b07dcaea-1550-4611-f581-09b3b2cf5ed1"
      },
      "source": [
        "display(df)"
      ],
      "execution_count": 85,
      "outputs": [
        {
          "output_type": "display_data",
          "data": {
            "text/plain": [
              "        Date  High   Low                                 Summary\n",
              "0   23-06-19  39.0  28.0               Sunny and a gentle breeze\n",
              "1   23-06-20  34.0  26.0    Thundery showers and a gentle breeze\n",
              "2   23-06-21  33.0  25.0    Thundery showers and a gentle breeze\n",
              "3   23-06-22  35.0  26.0          Light rain and a gentle breeze\n",
              "4   23-06-23  35.0  26.0                 Drizzle and light winds\n",
              "5   23-06-24  34.0  25.0      Light rain showers and light winds\n",
              "6   23-06-25  32.0  25.0      Light rain showers and light winds\n",
              "7   23-06-26  32.0  25.0        Thundery showers and light winds\n",
              "8   23-06-27  32.0  24.0    Thundery showers and a gentle breeze\n",
              "9   23-06-28  32.0  23.0    Thundery showers and a gentle breeze\n",
              "10  23-06-29  32.0  23.0  Light rain showers and a gentle breeze\n",
              "11  23-06-30  32.0  23.0        Thundery showers and light winds\n",
              "12  23-07-01  33.0  24.0    Thundery showers and a gentle breeze\n",
              "13  23-07-02  32.0  24.0  Light rain showers and a gentle breeze"
            ],
            "text/html": [
              "\n",
              "  <div id=\"df-9ecc42fe-1a2c-49d0-a8ab-372e6756144a\">\n",
              "    <div class=\"colab-df-container\">\n",
              "      <div>\n",
              "<style scoped>\n",
              "    .dataframe tbody tr th:only-of-type {\n",
              "        vertical-align: middle;\n",
              "    }\n",
              "\n",
              "    .dataframe tbody tr th {\n",
              "        vertical-align: top;\n",
              "    }\n",
              "\n",
              "    .dataframe thead th {\n",
              "        text-align: right;\n",
              "    }\n",
              "</style>\n",
              "<table border=\"1\" class=\"dataframe\">\n",
              "  <thead>\n",
              "    <tr style=\"text-align: right;\">\n",
              "      <th></th>\n",
              "      <th>Date</th>\n",
              "      <th>High</th>\n",
              "      <th>Low</th>\n",
              "      <th>Summary</th>\n",
              "    </tr>\n",
              "  </thead>\n",
              "  <tbody>\n",
              "    <tr>\n",
              "      <th>0</th>\n",
              "      <td>23-06-19</td>\n",
              "      <td>39.0</td>\n",
              "      <td>28.0</td>\n",
              "      <td>Sunny and a gentle breeze</td>\n",
              "    </tr>\n",
              "    <tr>\n",
              "      <th>1</th>\n",
              "      <td>23-06-20</td>\n",
              "      <td>34.0</td>\n",
              "      <td>26.0</td>\n",
              "      <td>Thundery showers and a gentle breeze</td>\n",
              "    </tr>\n",
              "    <tr>\n",
              "      <th>2</th>\n",
              "      <td>23-06-21</td>\n",
              "      <td>33.0</td>\n",
              "      <td>25.0</td>\n",
              "      <td>Thundery showers and a gentle breeze</td>\n",
              "    </tr>\n",
              "    <tr>\n",
              "      <th>3</th>\n",
              "      <td>23-06-22</td>\n",
              "      <td>35.0</td>\n",
              "      <td>26.0</td>\n",
              "      <td>Light rain and a gentle breeze</td>\n",
              "    </tr>\n",
              "    <tr>\n",
              "      <th>4</th>\n",
              "      <td>23-06-23</td>\n",
              "      <td>35.0</td>\n",
              "      <td>26.0</td>\n",
              "      <td>Drizzle and light winds</td>\n",
              "    </tr>\n",
              "    <tr>\n",
              "      <th>5</th>\n",
              "      <td>23-06-24</td>\n",
              "      <td>34.0</td>\n",
              "      <td>25.0</td>\n",
              "      <td>Light rain showers and light winds</td>\n",
              "    </tr>\n",
              "    <tr>\n",
              "      <th>6</th>\n",
              "      <td>23-06-25</td>\n",
              "      <td>32.0</td>\n",
              "      <td>25.0</td>\n",
              "      <td>Light rain showers and light winds</td>\n",
              "    </tr>\n",
              "    <tr>\n",
              "      <th>7</th>\n",
              "      <td>23-06-26</td>\n",
              "      <td>32.0</td>\n",
              "      <td>25.0</td>\n",
              "      <td>Thundery showers and light winds</td>\n",
              "    </tr>\n",
              "    <tr>\n",
              "      <th>8</th>\n",
              "      <td>23-06-27</td>\n",
              "      <td>32.0</td>\n",
              "      <td>24.0</td>\n",
              "      <td>Thundery showers and a gentle breeze</td>\n",
              "    </tr>\n",
              "    <tr>\n",
              "      <th>9</th>\n",
              "      <td>23-06-28</td>\n",
              "      <td>32.0</td>\n",
              "      <td>23.0</td>\n",
              "      <td>Thundery showers and a gentle breeze</td>\n",
              "    </tr>\n",
              "    <tr>\n",
              "      <th>10</th>\n",
              "      <td>23-06-29</td>\n",
              "      <td>32.0</td>\n",
              "      <td>23.0</td>\n",
              "      <td>Light rain showers and a gentle breeze</td>\n",
              "    </tr>\n",
              "    <tr>\n",
              "      <th>11</th>\n",
              "      <td>23-06-30</td>\n",
              "      <td>32.0</td>\n",
              "      <td>23.0</td>\n",
              "      <td>Thundery showers and light winds</td>\n",
              "    </tr>\n",
              "    <tr>\n",
              "      <th>12</th>\n",
              "      <td>23-07-01</td>\n",
              "      <td>33.0</td>\n",
              "      <td>24.0</td>\n",
              "      <td>Thundery showers and a gentle breeze</td>\n",
              "    </tr>\n",
              "    <tr>\n",
              "      <th>13</th>\n",
              "      <td>23-07-02</td>\n",
              "      <td>32.0</td>\n",
              "      <td>24.0</td>\n",
              "      <td>Light rain showers and a gentle breeze</td>\n",
              "    </tr>\n",
              "  </tbody>\n",
              "</table>\n",
              "</div>\n",
              "      <button class=\"colab-df-convert\" onclick=\"convertToInteractive('df-9ecc42fe-1a2c-49d0-a8ab-372e6756144a')\"\n",
              "              title=\"Convert this dataframe to an interactive table.\"\n",
              "              style=\"display:none;\">\n",
              "        \n",
              "  <svg xmlns=\"http://www.w3.org/2000/svg\" height=\"24px\"viewBox=\"0 0 24 24\"\n",
              "       width=\"24px\">\n",
              "    <path d=\"M0 0h24v24H0V0z\" fill=\"none\"/>\n",
              "    <path d=\"M18.56 5.44l.94 2.06.94-2.06 2.06-.94-2.06-.94-.94-2.06-.94 2.06-2.06.94zm-11 1L8.5 8.5l.94-2.06 2.06-.94-2.06-.94L8.5 2.5l-.94 2.06-2.06.94zm10 10l.94 2.06.94-2.06 2.06-.94-2.06-.94-.94-2.06-.94 2.06-2.06.94z\"/><path d=\"M17.41 7.96l-1.37-1.37c-.4-.4-.92-.59-1.43-.59-.52 0-1.04.2-1.43.59L10.3 9.45l-7.72 7.72c-.78.78-.78 2.05 0 2.83L4 21.41c.39.39.9.59 1.41.59.51 0 1.02-.2 1.41-.59l7.78-7.78 2.81-2.81c.8-.78.8-2.07 0-2.86zM5.41 20L4 18.59l7.72-7.72 1.47 1.35L5.41 20z\"/>\n",
              "  </svg>\n",
              "      </button>\n",
              "      \n",
              "  <style>\n",
              "    .colab-df-container {\n",
              "      display:flex;\n",
              "      flex-wrap:wrap;\n",
              "      gap: 12px;\n",
              "    }\n",
              "\n",
              "    .colab-df-convert {\n",
              "      background-color: #E8F0FE;\n",
              "      border: none;\n",
              "      border-radius: 50%;\n",
              "      cursor: pointer;\n",
              "      display: none;\n",
              "      fill: #1967D2;\n",
              "      height: 32px;\n",
              "      padding: 0 0 0 0;\n",
              "      width: 32px;\n",
              "    }\n",
              "\n",
              "    .colab-df-convert:hover {\n",
              "      background-color: #E2EBFA;\n",
              "      box-shadow: 0px 1px 2px rgba(60, 64, 67, 0.3), 0px 1px 3px 1px rgba(60, 64, 67, 0.15);\n",
              "      fill: #174EA6;\n",
              "    }\n",
              "\n",
              "    [theme=dark] .colab-df-convert {\n",
              "      background-color: #3B4455;\n",
              "      fill: #D2E3FC;\n",
              "    }\n",
              "\n",
              "    [theme=dark] .colab-df-convert:hover {\n",
              "      background-color: #434B5C;\n",
              "      box-shadow: 0px 1px 3px 1px rgba(0, 0, 0, 0.15);\n",
              "      filter: drop-shadow(0px 1px 2px rgba(0, 0, 0, 0.3));\n",
              "      fill: #FFFFFF;\n",
              "    }\n",
              "  </style>\n",
              "\n",
              "      <script>\n",
              "        const buttonEl =\n",
              "          document.querySelector('#df-9ecc42fe-1a2c-49d0-a8ab-372e6756144a button.colab-df-convert');\n",
              "        buttonEl.style.display =\n",
              "          google.colab.kernel.accessAllowed ? 'block' : 'none';\n",
              "\n",
              "        async function convertToInteractive(key) {\n",
              "          const element = document.querySelector('#df-9ecc42fe-1a2c-49d0-a8ab-372e6756144a');\n",
              "          const dataTable =\n",
              "            await google.colab.kernel.invokeFunction('convertToInteractive',\n",
              "                                                     [key], {});\n",
              "          if (!dataTable) return;\n",
              "\n",
              "          const docLinkHtml = 'Like what you see? Visit the ' +\n",
              "            '<a target=\"_blank\" href=https://colab.research.google.com/notebooks/data_table.ipynb>data table notebook</a>'\n",
              "            + ' to learn more about interactive tables.';\n",
              "          element.innerHTML = '';\n",
              "          dataTable['output_type'] = 'display_data';\n",
              "          await google.colab.output.renderOutput(dataTable, element);\n",
              "          const docLink = document.createElement('div');\n",
              "          docLink.innerHTML = docLinkHtml;\n",
              "          element.appendChild(docLink);\n",
              "        }\n",
              "      </script>\n",
              "    </div>\n",
              "  </div>\n",
              "  "
            ]
          },
          "metadata": {}
        }
      ]
    },
    {
      "cell_type": "markdown",
      "metadata": {
        "id": "2nqnCZI79H56"
      },
      "source": [
        "Extract the name of the city for which data is gathered."
      ]
    },
    {
      "cell_type": "code",
      "metadata": {
        "id": "HkRuIj3d9H56",
        "colab": {
          "base_uri": "https://localhost:8080/"
        },
        "outputId": "0c28d168-eb2c-4f9b-b69a-2a82580258bd"
      },
      "source": [
        "#location = soup.find('div', attrs={'class':'wr-c-location'})\n",
        "location = soup.find('h1', attrs={'id':'wr-location-name-id'})\n",
        "location.text.split()"
      ],
      "execution_count": 86,
      "outputs": [
        {
          "output_type": "execute_result",
          "data": {
            "text/plain": [
              "['Lucknow', '-', 'Weather', 'warnings', 'issued']"
            ]
          },
          "metadata": {},
          "execution_count": 86
        }
      ]
    },
    {
      "cell_type": "code",
      "metadata": {
        "id": "WLH8Rj8z9H56"
      },
      "source": [
        "# create a recording\n",
        "filename_csv = location.text.split()[0]+'.csv'\n",
        "df.to_csv(filename_csv, index=None)"
      ],
      "execution_count": 87,
      "outputs": []
    },
    {
      "cell_type": "code",
      "metadata": {
        "id": "GgZEgrlh9H6B"
      },
      "source": [
        "filename_xlsx = location.text.split()[0]+'.xlsx'\n",
        "df.to_excel(filename_xlsx)"
      ],
      "execution_count": 88,
      "outputs": []
    },
    {
      "cell_type": "code",
      "metadata": {
        "id": "lXrsKdXg8mJT"
      },
      "source": [],
      "execution_count": null,
      "outputs": []
    }
  ]
}