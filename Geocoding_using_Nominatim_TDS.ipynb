{
  "nbformat": 4,
  "nbformat_minor": 0,
  "metadata": {
    "colab": {
      "provenance": []
    },
    "kernelspec": {
      "name": "python3",
      "display_name": "Python 3"
    },
    "language_info": {
      "name": "python"
    }
  },
  "cells": [
    {
      "cell_type": "markdown",
      "source": [
        "## Scraping using Geocoding API of Open Street Maps (OSM)\n",
        "Using the Nominatim API to scrape geocoding information of any open ended address text using Python.\n",
        "\n",
        "- Geocoding is the process of converting addresses or place names into geographic coordinates (latitude and longitude) on the Earth's surface.\n",
        "\n",
        "- Nominatim is a geocoding service provided by OpenStreetMap (OSM) that allows you to perform geocoding and reverse geocoding operations."
      ],
      "metadata": {
        "id": "Exzc4iYkmdos"
      }
    },
    {
      "cell_type": "code",
      "execution_count": 2,
      "metadata": {
        "id": "gOv0rOEkmZdF"
      },
      "outputs": [],
      "source": [
        "# Necessary imports\n",
        "from geopy.geocoders import Nominatim"
      ]
    },
    {
      "cell_type": "code",
      "source": [
        "# Activate nominatim geocoder\n",
        "locator = Nominatim(user_agent = \"myGeocoder\")\n",
        "\n",
        "# Take any address\n",
        "location = locator.geocode(\"Lucknow University\")"
      ],
      "metadata": {
        "id": "veUWQ5WdnCk3"
      },
      "execution_count": 8,
      "outputs": []
    },
    {
      "cell_type": "code",
      "source": [
        "# Print the lattitute and longitude of the address\n",
        "print(\"Latitute = {}, Longitude = {}\".format(location.latitude, location.longitude))"
      ],
      "metadata": {
        "colab": {
          "base_uri": "https://localhost:8080/"
        },
        "id": "7n5STl32o3TE",
        "outputId": "61c51c82-9f62-4058-d654-9d4a8a95c441"
      },
      "execution_count": 9,
      "outputs": [
        {
          "output_type": "stream",
          "name": "stdout",
          "text": [
            "Latitute = 26.865649949999998, Longitude = 80.936738990556\n"
          ]
        }
      ]
    },
    {
      "cell_type": "code",
      "source": [
        "# Printing all the information\n",
        "location.raw, location.point, location.longitude, location.latitude, location.altitude, location.address"
      ],
      "metadata": {
        "colab": {
          "base_uri": "https://localhost:8080/"
        },
        "id": "ZFEQIjHjpRC_",
        "outputId": "607c300f-74b4-4715-ff5f-9547269e4138"
      },
      "execution_count": 10,
      "outputs": [
        {
          "output_type": "execute_result",
          "data": {
            "text/plain": [
              "({'place_id': 157038533,\n",
              "  'licence': 'Data © OpenStreetMap contributors, ODbL 1.0. https://osm.org/copyright',\n",
              "  'osm_type': 'way',\n",
              "  'osm_id': 212818836,\n",
              "  'boundingbox': ['26.8597586', '26.871294', '80.9320005', '80.9407579'],\n",
              "  'lat': '26.865649949999998',\n",
              "  'lon': '80.936738990556',\n",
              "  'display_name': 'Lucknow University, Kursi Road, Hazratganj, Lucknow, Uttar Pradesh, 226007, India',\n",
              "  'class': 'amenity',\n",
              "  'type': 'university',\n",
              "  'importance': 0.600444593674683,\n",
              "  'icon': 'https://nominatim.openstreetmap.org/ui/mapicons/education_university.p.20.png'},\n",
              " Point(26.865649949999998, 80.936738990556, 0.0),\n",
              " 80.936738990556,\n",
              " 26.865649949999998,\n",
              " 0.0,\n",
              " 'Lucknow University, Kursi Road, Hazratganj, Lucknow, Uttar Pradesh, 226007, India')"
            ]
          },
          "metadata": {},
          "execution_count": 10
        }
      ]
    },
    {
      "cell_type": "code",
      "source": [],
      "metadata": {
        "id": "c1kiYIwmp3X1"
      },
      "execution_count": null,
      "outputs": []
    }
  ]
}